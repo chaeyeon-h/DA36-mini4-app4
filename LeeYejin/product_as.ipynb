{
 "cells": [
  {
   "metadata": {},
   "cell_type": "markdown",
   "source": "# Pinecone Vector DB ",
   "id": "bc49f3633313d4f2"
  },
  {
   "cell_type": "code",
   "id": "initial_id",
   "metadata": {
    "collapsed": true,
    "ExecuteTime": {
     "end_time": "2024-12-19T07:39:40.027946Z",
     "start_time": "2024-12-19T07:39:40.010277Z"
    }
   },
   "source": [
    "from dotenv import load_dotenv\n",
    "load_dotenv()"
   ],
   "outputs": [
    {
     "data": {
      "text/plain": [
       "True"
      ]
     },
     "execution_count": 1,
     "metadata": {},
     "output_type": "execute_result"
    }
   ],
   "execution_count": 1
  },
  {
   "metadata": {},
   "cell_type": "markdown",
   "source": "## 1. 모델명, 제품명, 수리부품, 수리비용 검색",
   "id": "2932929303befd14"
  },
  {
   "metadata": {},
   "cell_type": "markdown",
   "source": "### 파일 로드",
   "id": "879f11254e8f02a9"
  },
  {
   "metadata": {
    "ExecuteTime": {
     "end_time": "2024-12-19T07:39:43.524405Z",
     "start_time": "2024-12-19T07:39:42.490511Z"
    }
   },
   "cell_type": "code",
   "source": [
    "from langchain_community.document_loaders import CSVLoader\n",
    "\n",
    "loader = CSVLoader('./AS_product.csv', encoding = 'utf-8')\n",
    "documents = loader.load()\n",
    "print(len(documents))\n",
    "documents[0]\n"
   ],
   "id": "3c8b668d0ebf0127",
   "outputs": [
    {
     "name": "stdout",
     "output_type": "stream",
     "text": [
      "95\n"
     ]
    },
    {
     "data": {
      "text/plain": [
       "Document(metadata={'source': './AS_product.csv', 'row': 0}, page_content='\\ufeff모델 종류: 스마트폰\\n모델명: SM-F711N1BFKOO\\n제품명: 갤럭시_Z_플립3\\n수리부품: 디스플레이(메인)\\n수리비용: 543,000')"
      ]
     },
     "execution_count": 2,
     "metadata": {},
     "output_type": "execute_result"
    }
   ],
   "execution_count": 2
  },
  {
   "metadata": {},
   "cell_type": "markdown",
   "source": "### 임베딩 모델 생성\n",
   "id": "ec8d2a68a054554d"
  },
  {
   "metadata": {
    "ExecuteTime": {
     "end_time": "2024-12-19T07:39:51.800948Z",
     "start_time": "2024-12-19T07:39:50.506677Z"
    }
   },
   "cell_type": "code",
   "source": [
    "from langchain_openai.embeddings import OpenAIEmbeddings\n",
    "embeddings = OpenAIEmbeddings(model = 'text-embedding-3-small')\n"
   ],
   "id": "97da5fc80c6c7311",
   "outputs": [],
   "execution_count": 3
  },
  {
   "metadata": {},
   "cell_type": "markdown",
   "source": "### Pinecone",
   "id": "a0453c6a2ab171f"
  },
  {
   "metadata": {
    "ExecuteTime": {
     "end_time": "2024-12-19T07:38:55.637575Z",
     "start_time": "2024-12-19T07:38:55.633383Z"
    }
   },
   "cell_type": "code",
   "source": [
    "# Pinecone 클라이언트\n",
    "from langchain_pinecone import PineconeVectorStore\n",
    "import os\n",
    "\n",
    "PINECONE_INDEX_NAME = os.getenv('PINECONE_INDEX_NAME')\n",
    "PINECONE_NAMESPACE = os.getenv('PINECONE_NAMESPACE')\n",
    "PINECONE_API_KEY = os.getenv('PINECONE_API_KEY')\n"
   ],
   "id": "d1825f626e1eb28e",
   "outputs": [],
   "execution_count": 8
  },
  {
   "metadata": {
    "ExecuteTime": {
     "end_time": "2024-12-19T07:36:04.752912Z",
     "start_time": "2024-12-19T07:36:03.103921Z"
    }
   },
   "cell_type": "code",
   "source": [
    "# 클라이언트 객체\n",
    "vector_db = PineconeVectorStore(\n",
    "    embedding=embeddings,\n",
    "    index_name = PINECONE_INDEX_NAME,\n",
    "    namespace = PINECONE_NAMESPACE,\n",
    "    pinecone_api_key = PINECONE_API_KEY\n",
    ")\n",
    "\n",
    "results = vector_db.similarity_search(\n",
    "    '갤럭시 탭 S10 울트라 화면이 고장났어요.',\n",
    "    k = 5,\n",
    "    namespace = PINECONE_NAMESPACE)  # 검색의 논리적인 단위\n",
    "results\n"
   ],
   "id": "b139d809eb19a36c",
   "outputs": [
    {
     "data": {
      "text/plain": [
       "[Document(id='d613cf36-2c49-42f5-990e-7addbe60ed84', metadata={'row': 72.0, 'source': './AS_product.csv'}, page_content='\\ufeff모델 종류: 탭\\n모델명: SM-X920NZAAKOO\\n제품명: 갤럭시_탭_S10_ULTRA(울트라)_WI-FI\\n수리부품: 후면케이스\\n수리비용: 284,000'),\n",
       " Document(id='78a08219-ef82-4f21-8477-d29830822e9b', metadata={'row': 68.0, 'source': './AS_product.csv'}, page_content='\\ufeff모델 종류: 탭\\n모델명: SM-X920NZAAKOO\\n제품명: 갤럭시_탭_S10_ULTRA(울트라)_WI-FI\\n수리부품: 디스플레이\\n수리비용: 585,000'),\n",
       " Document(id='404c9ff9-3be5-45f7-a251-502f69d3e0ac', metadata={'row': 71.0, 'source': './AS_product.csv'}, page_content='\\ufeff모델 종류: 탭\\n모델명: SM-X920NZAAKOO\\n제품명: 갤럭시_탭_S10_ULTRA(울트라)_WI-FI\\n수리부품: 카메라\\n수리비용: 72,000'),\n",
       " Document(id='95c6ec86-f55c-4d1b-b89a-ae117dcee760', metadata={'row': 70.0, 'source': './AS_product.csv'}, page_content='\\ufeff모델 종류: 탭\\n모델명: SM-X920NZAAKOO\\n제품명: 갤럭시_탭_S10_ULTRA(울트라)_WI-FI\\n수리부품: 배터리\\n수리비용: 88,500'),\n",
       " Document(id='b20c4e67-de69-448f-86da-87db75e29f5c', metadata={'row': 77.0, 'source': './AS_product.csv'}, page_content='\\ufeff모델 종류: 탭\\n모델명: SM-X710NZAAKOO\\n제품명: 갤럭시_탭_S9_WI-FI\\n수리부품: 후면케이스\\n수리비용: 234,000')]"
      ]
     },
     "execution_count": 7,
     "metadata": {},
     "output_type": "execute_result"
    }
   ],
   "execution_count": 7
  },
  {
   "metadata": {
    "ExecuteTime": {
     "end_time": "2024-12-19T07:40:00.035836Z",
     "start_time": "2024-12-19T07:39:59.660669Z"
    }
   },
   "cell_type": "code",
   "source": [
    "from langchain_pinecone import PineconeVectorStore\n",
    "import os\n",
    "\n",
    "PINECONE_INDEX_NAME = os.getenv('PINECONE_INDEX_NAME')\n",
    "PINECONE_NAMESPACE = os.getenv('PINECONE_NAMESPACE')\n",
    "PINECONE_API_KEY = os.getenv('PINECONE_API_KEY')\n",
    "\n",
    "def repair_product_information(query):\n",
    "    \"\"\"\n",
    "    :param query: 전자제품 제품명 + 수리품목 텍스트 \n",
    "    :return: \n",
    "    \"\"\"\n",
    "    embeddings = OpenAIEmbeddings(model = 'text-embedding-3-small')\n",
    "    # 클라이언트 객체\n",
    "    vector_db = PineconeVectorStore(\n",
    "        embedding=embeddings,\n",
    "        index_name = PINECONE_INDEX_NAME,\n",
    "        namespace = PINECONE_NAMESPACE,\n",
    "        pinecone_api_key = PINECONE_API_KEY\n",
    "    )\n",
    "    # 유사도 검색\n",
    "    results = vector_db.similarity_search(\n",
    "    query,\n",
    "    k = 10,\n",
    "    namespace = PINECONE_NAMESPACE\n",
    "    ) \n",
    "    return {\n",
    "        'as_details' : query,\n",
    "        'repair_information' : '\\n'.join([doc.page_content for doc in results])\n",
    "    }\n"
   ],
   "id": "f0e9dcee0deff736",
   "outputs": [],
   "execution_count": 4
  },
  {
   "metadata": {
    "ExecuteTime": {
     "end_time": "2024-12-19T07:40:06.010590Z",
     "start_time": "2024-12-19T07:40:01.931641Z"
    }
   },
   "cell_type": "code",
   "source": "repair_product_information('갤럭시 탭 S10 울트라 화면이 고장났어요.')\n",
   "id": "ec0ba981362b12a1",
   "outputs": [
    {
     "data": {
      "text/plain": [
       "{'as_details': '갤럭시 탭 S10 울트라 화면이 고장났어요.',\n",
       " 'repair_information': '\\ufeff모델 종류: 탭\\n모델명: SM-X920NZAAKOO\\n제품명: 갤럭시_탭_S10_ULTRA(울트라)_WI-FI\\n수리부품: 후면케이스\\n수리비용: 284,000\\n\\ufeff모델 종류: 탭\\n모델명: SM-X920NZAAKOO\\n제품명: 갤럭시_탭_S10_ULTRA(울트라)_WI-FI\\n수리부품: 디스플레이\\n수리비용: 585,000\\n\\ufeff모델 종류: 탭\\n모델명: SM-X920NZAAKOO\\n제품명: 갤럭시_탭_S10_ULTRA(울트라)_WI-FI\\n수리부품: 카메라\\n수리비용: 72,000\\n\\ufeff모델 종류: 탭\\n모델명: SM-X920NZAAKOO\\n제품명: 갤럭시_탭_S10_ULTRA(울트라)_WI-FI\\n수리부품: 배터리\\n수리비용: 88,500\\n\\ufeff모델 종류: 탭\\n모델명: SM-X710NZAAKOO\\n제품명: 갤럭시_탭_S9_WI-FI\\n수리부품: 후면케이스\\n수리비용: 234,000\\n\\ufeff모델 종류: 탭\\n모델명: SM-X920NZAAKOO\\n제품명: 갤럭시_탭_S10_ULTRA(울트라)_WI-FI\\n수리부품: 메인보드\\n수리비용: 413,000\\n\\ufeff모델 종류: 탭\\n모델명: SM-X216NZSAKOO\\n제품명: 갤럭시_탭_A9+_5G\\n수리부품: 후면케이스\\n수리비용: 44,000\\n\\ufeff모델 종류: 탭\\n모델명: SM-X710NZAAKOO\\n제품명: 갤럭시_탭_S9_WI-FI\\n수리부품: 디스플레이\\n수리비용: 359,000\\n\\ufeff모델 종류: 탭\\n모델명: SM-X710NZAAKOO\\n제품명: 갤럭시_탭_S9_WI-FI\\n수리부품: 배터리\\n수리비용: 84,000\\n\\ufeff모델 종류: 탭\\n모델명: SM-X710NZAAKOO\\n제품명: 갤럭시_탭_S9_WI-FI\\n수리부품: 카메라\\n수리비용: 64,500'}"
      ]
     },
     "execution_count": 5,
     "metadata": {},
     "output_type": "execute_result"
    }
   ],
   "execution_count": 5
  },
  {
   "metadata": {
    "ExecuteTime": {
     "end_time": "2024-12-19T07:40:22.207154Z",
     "start_time": "2024-12-19T07:40:19.588853Z"
    }
   },
   "cell_type": "code",
   "source": [
    "from langchain_core.runnables import RunnableLambda\n",
    "\n",
    "chain = RunnableLambda(repair_product_information)\n",
    "input_data = {'text': '갤럭시Z플립3의 배터리가 망가졌어요.'}\n",
    "chain.invoke(input_data['text'])\n"
   ],
   "id": "5c6dff84e4aeb36f",
   "outputs": [
    {
     "data": {
      "text/plain": [
       "{'as_details': '갤럭시Z플립3의 배터리가 망가졌어요.',\n",
       " 'repair_information': '\\ufeff모델 종류: 스마트폰\\n모델명: SM-F711N1BFKOO\\n제품명: 갤럭시_Z_플립3\\n수리부품: 배터리\\n수리비용: 96,500\\n\\ufeff모델 종류: 스마트폰\\n모델명: SM-F741NZWAKOO\\n제품명: 갤럭시_Z_플립6\\n수리부품: 배터리\\n수리비용: 130,000\\n\\ufeff모델 종류: 스마트폰\\n모델명: SM-F711N1BFKOO\\n제품명: 갤럭시_Z_플립3\\n수리부품: 디스플레이(메인)\\n수리비용: 543,000\\n\\ufeff모델 종류: 스마트폰\\n모델명: SM-F711N1BFKOO\\n제품명: 갤럭시_Z_플립3\\n수리부품: 디스플레이(서브)\\n수리비용: 130,000\\n\\ufeff모델 종류: 스마트폰\\n모델명: SM-F711N1BFKOO\\n제품명: 갤럭시_Z_플립3\\n수리부품: 후면케이스\\n수리비용: 33,000\\n\\ufeff모델 종류: 스마트폰\\n모델명: SM-F711N1BFKOO\\n제품명: 갤럭시_Z_플립3\\n수리부품: 카메라\\n수리비용: 64,000\\n\\ufeff모델 종류: 스마트폰\\n모델명: SM-F956NAKEKOO\\n제품명: 갤럭시_Z_폴드6\\n수리부품: 배터리\\n수리비용: 111,500\\n\\ufeff모델 종류: 스마트폰\\n모델명: SM-S921NZYEKOO\\n제품명: 갤럭시_S24\\n수리부품: 배터리\\n수리비용: 67,500\\n\\ufeff모델 종류: 스마트폰\\n모델명: SM-F711N1BFKOO\\n제품명: 갤럭시_Z_플립3\\n수리부품: 메인보드\\n수리비용: 460,000\\n\\ufeff모델 종류: 노트북\\n모델명: NT960XMB-K\\n제품명: 갤럭시_북4_EDGE\\n수리부품: 배터리\\n수리비용: 172,000'}"
      ]
     },
     "execution_count": 6,
     "metadata": {},
     "output_type": "execute_result"
    }
   ],
   "execution_count": 6
  },
  {
   "metadata": {},
   "cell_type": "markdown",
   "source": "## 2. 수리부품 추천 - 수리비용 안내",
   "id": "81b1370dc8cf926f"
  },
  {
   "metadata": {
    "ExecuteTime": {
     "end_time": "2024-12-19T07:40:31.831233Z",
     "start_time": "2024-12-19T07:40:31.826365Z"
    }
   },
   "cell_type": "code",
   "source": [
    "from langchain_core.prompts import ChatPromptTemplate, HumanMessagePromptTemplate\n",
    "from langchain_openai import ChatOpenAI\n",
    "from langchain_core.output_parsers import StrOutputParser\n",
    "\n",
    "def product_repair_cost(query):\n",
    "    \n",
    "    prompt = ChatPromptTemplate.from_messages([\n",
    "        ('system', \"\"\"\n",
    "Persona :\n",
    "당신은 전자제품에 대한 깊은 사랑과 열정을 가진 서비스센터 직원입니다. 전자 제품에 대한 폭넓은 지식을 보유하고 있으며, 다양한 모델을 제품명만 듣고 어떤 모델 종류인지 구분해내는 능력과 고장난 문제에 따라 필요한 부품 및 수리 비용에 대해 잘 알고 있습니다. 고객이 수리 과정과 비용을 이해할 수 있도록 친근하고 다가가기 쉬운 태도로 설명하며, 초보자도 쉽게 이해할 수 있는 방식으로 설명합니다.\n",
    "\n",
    "Role:\n",
    "서비스 센터 직원으로서의 역할은 필요한 수리 부품을 쉽게 이해할 수 있는 방식으로 설명하고 수리 비용 정보를 제공하는 것입니다.  당신은 제품명을 보는 것만으로도 해당 제품이 휴대폰, TV, 노트북, 워치, 탭 중에서 어떤 모델 종류인지 구분할 수 있습니다. 고객이 제품명만 알려줘도 어떤 제품인지 파악하고, 해당하는 수리 부품과 수리 비용을 안내할 수 있어야 합니다. 고객이 최소한의 적합한 수리 부품만 사용하도록 도와 원활한 서비스를 제공합니다. 고객의 불편함을 최소화하고 적절한 부품과 비용을 추천함으로써 고객이 전자 제품을 편리하게 사용할 수 있도록 돕는 것이 목표입니다. 추측성 정보는 고객에게 혼란을 줄 수 있으므로 지양합니다.\n",
    "\n",
    "Examples:\n",
    "- 휴대폰 화면 손상 수리에 대한 예시:\n",
    "고객이 화면 손상으로 인한 수리 비용 설명을 요청하는 경우, 제품의 모델명, 보증 기간, 적합한 수리 부품, 비용, 예상 수리 시간을 초등학생도 이해할 수 있도록 쉽게 설명합니다.\n",
    "\n",
    "- \"왜 TV가 작동하지 않나요?\"라는 질문에 대한 예시:\n",
    "TV가 작동하지 않는 데에는 여러 가지 원인이 있을 수 있습니다. 우선 전원 플러그가 제대로 꽂혀 있는지 확인해주세요. 안테나 케이블 연결이 제대로 되어있지 않거나, 케이블 방송 수신기 또는 위성 리시버의 전원이 꺼져 있을 수 있습니다. 안테나 케이블 연결 상태를 확인하거나, 케이블 방송 수신기 또는 위성 리시버의 전원을 켜주세요. 또한, 환경 조건이 영향을 줄 수 있습니다. 권장 작동 환경은 온도 10℃~40℃(50℉~104℉), 습도 10%~80%이며, 응결이 없는 환경이어야 합니다. 추가적인 문의사항이 있으시면 말씀해주세요. 감사합니다!\n",
    "\n",
    "- \"TV에서 게임 모드는 어떻게 사용하나요?\"라는 질문에 대한 예시:\n",
    "게임 모드를 활성화하면 TV 화면을 게임에 최적화할 수 있습니다. 선택 버튼을 눌러 게임 모드를 켜거나 끌 수 있습니다. 더 자세한 설정을 위해 리모컨의 위쪽 버튼을 눌러 게임 모드 설정으로 이동한 뒤 선택 버튼을 눌러주세요. 이 기능은 외부 입력 모드에서만 사용할 수 있습니다. 추가적인 세부사항은 \"외부 기기에 따른 시청 환경 설정하기\"를 참고해주세요. 감사합니다!\n",
    "\n",
    "        \"\"\"),\n",
    "        HumanMessagePromptTemplate.from_template('''\n",
    "        수리비용 설명에 아래의 제품명과 모델명, 수리부품, 수리비용만을 참고하여 한글로 답변해주세요.\n",
    "        A/S 내용 :\n",
    "        {as_details}\n",
    "        수리 정보 :\n",
    "        {repair_information}\n",
    "        ''')\n",
    "    ])\n",
    "    \n",
    "    model = ChatOpenAI(\n",
    "        model = 'gpt-4o',\n",
    "        temperature = 0.3\n",
    "    )\n",
    "    \n",
    "    output_parser = StrOutputParser()\n",
    "    \n",
    "    return prompt | model | output_parser\n",
    "    "
   ],
   "id": "3b92de6ad86e2af5",
   "outputs": [],
   "execution_count": 7
  },
  {
   "metadata": {},
   "cell_type": "markdown",
   "source": "## Chain 연결",
   "id": "aa33294eb8ae0b8f"
  },
  {
   "metadata": {
    "ExecuteTime": {
     "end_time": "2024-12-19T07:40:40.122868Z",
     "start_time": "2024-12-19T07:40:36.230135Z"
    }
   },
   "cell_type": "code",
   "source": [
    "from langchain_core.runnables import RunnableLambda\n",
    "\n",
    "chain = RunnableLambda(repair_product_information) | RunnableLambda(product_repair_cost)\n",
    "\n",
    "input_data = {'text': 'NEO QLED 8K TV 85인치의 케이블이 망가졌어요.'}\n",
    "print(chain.invoke(input_data['text']))\n"
   ],
   "id": "bbdfe2186a2c7a8",
   "outputs": [
    {
     "name": "stdout",
     "output_type": "stream",
     "text": [
      "안녕하세요! NEO QLED 8K TV 85인치의 케이블이 망가졌군요. 해당 모델명은 KQ85QNC850FXKR입니다. 이 모델의 케이블 수리 비용은 33,000원입니다. 수리 진행에 대해 더 궁금한 점이 있거나 도움이 필요하시면 언제든지 말씀해 주세요. 감사합니다!\n"
     ]
    }
   ],
   "execution_count": 8
  },
  {
   "metadata": {
    "ExecuteTime": {
     "end_time": "2024-12-19T07:40:52.403859Z",
     "start_time": "2024-12-19T07:40:47.480839Z"
    }
   },
   "cell_type": "code",
   "source": [
    "input_data = {'text': '갤럭시Z폴드6의 카메라가 작동이 안돼요.'}\n",
    "print(chain.invoke(input_data['text']))\n"
   ],
   "id": "8a0e4322484eebd0",
   "outputs": [
    {
     "name": "stdout",
     "output_type": "stream",
     "text": [
      "고객님, 갤럭시 Z 폴드6의 카메라가 작동하지 않는 문제로 불편을 겪고 계시군요. 해당 모델의 카메라 수리 비용은 75,500원입니다. 수리 과정은 보통 1~2일 정도 소요되며, 부품 재고 상황에 따라 달라질 수 있습니다. 추가적인 문의사항이나 도움이 필요하시면 언제든지 말씀해 주세요. 감사합니다!\n"
     ]
    }
   ],
   "execution_count": 9
  },
  {
   "metadata": {
    "ExecuteTime": {
     "end_time": "2024-12-19T07:41:00.004663Z",
     "start_time": "2024-12-19T07:40:55.826532Z"
    }
   },
   "cell_type": "code",
   "source": [
    "input_data = {'text': 'NEOQLED8KTV85형(인치) 디스플레이 수리비용이 얼마정도 들까요??'}\n",
    "print(chain.invoke(input_data['text']))"
   ],
   "id": "9c398dcd4f24849",
   "outputs": [
    {
     "name": "stdout",
     "output_type": "stream",
     "text": [
      "안녕하세요! NEO QLED 8K TV 85형(인치)의 디스플레이 수리 비용에 대해 문의 주셨군요. 해당 모델명은 KQ85QNC850FXKR로, 디스플레이 수리 비용은 2,575,000원입니다. 수리 진행에 대해 추가적인 문의사항이 있으시면 언제든지 말씀해 주세요. 감사합니다!\n"
     ]
    }
   ],
   "execution_count": 10
  },
  {
   "metadata": {},
   "cell_type": "code",
   "outputs": [],
   "execution_count": null,
   "source": "",
   "id": "9899d60f9879c7d8"
  },
  {
   "metadata": {},
   "cell_type": "code",
   "outputs": [],
   "execution_count": null,
   "source": "",
   "id": "ba7167b5e24926d"
  }
 ],
 "metadata": {
  "kernelspec": {
   "display_name": "Python 3",
   "language": "python",
   "name": "python3"
  },
  "language_info": {
   "codemirror_mode": {
    "name": "ipython",
    "version": 2
   },
   "file_extension": ".py",
   "mimetype": "text/x-python",
   "name": "python",
   "nbconvert_exporter": "python",
   "pygments_lexer": "ipython2",
   "version": "2.7.6"
  }
 },
 "nbformat": 4,
 "nbformat_minor": 5
}
