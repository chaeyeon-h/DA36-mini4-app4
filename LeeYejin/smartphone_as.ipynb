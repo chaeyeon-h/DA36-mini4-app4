{
 "cells": [
  {
   "metadata": {},
   "cell_type": "markdown",
   "source": "# Pinecone Vector DB ",
   "id": "bc49f3633313d4f2"
  },
  {
   "cell_type": "code",
   "id": "initial_id",
   "metadata": {
    "collapsed": true,
    "ExecuteTime": {
     "end_time": "2024-12-19T02:30:25.955548Z",
     "start_time": "2024-12-19T02:30:25.943397Z"
    }
   },
   "source": [
    "from dotenv import load_dotenv\n",
    "from langchain_core.runnables import RunnableLambda\n",
    "\n",
    "load_dotenv()"
   ],
   "outputs": [
    {
     "data": {
      "text/plain": [
       "True"
      ]
     },
     "execution_count": 50,
     "metadata": {},
     "output_type": "execute_result"
    }
   ],
   "execution_count": 50
  },
  {
   "metadata": {},
   "cell_type": "markdown",
   "source": "## 1. 모델명, 제품명, 수리부품, 수리비용 검색",
   "id": "2932929303befd14"
  },
  {
   "metadata": {},
   "cell_type": "markdown",
   "source": "### 파일 로드",
   "id": "879f11254e8f02a9"
  },
  {
   "metadata": {
    "ExecuteTime": {
     "end_time": "2024-12-19T02:30:27.799453Z",
     "start_time": "2024-12-19T02:30:27.776516Z"
    }
   },
   "cell_type": "code",
   "source": [
    "from langchain_community.document_loaders import CSVLoader\n",
    "\n",
    "loader = CSVLoader('./smartphone_as.csv', encoding = 'utf-8')\n",
    "documents = loader.load()\n",
    "print(len(documents))\n",
    "documents[0]\n"
   ],
   "id": "3c8b668d0ebf0127",
   "outputs": [
    {
     "name": "stdout",
     "output_type": "stream",
     "text": [
      "33\n"
     ]
    },
    {
     "data": {
      "text/plain": [
       "Document(metadata={'source': './smartphone_as.csv', 'row': 0}, page_content='\\ufeff모델명: SM-F711N1BFKOO\\n제품명: 갤럭시 Z 플립3\\n수리부품: 디스플레이(메인)\\n수리비용: 543,000')"
      ]
     },
     "execution_count": 51,
     "metadata": {},
     "output_type": "execute_result"
    }
   ],
   "execution_count": 51
  },
  {
   "metadata": {},
   "cell_type": "markdown",
   "source": "### 임베딩 모델 생성\n",
   "id": "ec8d2a68a054554d"
  },
  {
   "metadata": {
    "ExecuteTime": {
     "end_time": "2024-12-19T02:30:30.826305Z",
     "start_time": "2024-12-19T02:30:30.261484Z"
    }
   },
   "cell_type": "code",
   "source": [
    "from langchain_openai.embeddings import OpenAIEmbeddings\n",
    "embeddings = OpenAIEmbeddings(model = 'text-embedding-3-small')\n"
   ],
   "id": "97da5fc80c6c7311",
   "outputs": [],
   "execution_count": 52
  },
  {
   "metadata": {},
   "cell_type": "markdown",
   "source": "### Pinecone",
   "id": "a0453c6a2ab171f"
  },
  {
   "metadata": {
    "ExecuteTime": {
     "end_time": "2024-12-19T02:30:31.928690Z",
     "start_time": "2024-12-19T02:30:31.922931Z"
    }
   },
   "cell_type": "code",
   "source": [
    "from langchain_openai.embeddings import OpenAIEmbeddings\n",
    "from langchain_pinecone import PineconeVectorStore\n",
    "import os\n",
    "\n",
    "PINECONE_INDEX_NAME = os.getenv('PINECONE_INDEX_NAME')\n",
    "PINECONE_NAMESPACE = os.getenv('PINECONE_NAMESPACE')\n",
    "PINECONE_API_KEY = os.getenv('PINECONE_API_KEY')\n",
    "\n",
    "def repair_product_information(query):\n",
    "    \"\"\"\n",
    "    :param query: 전자제품 모델명 + 수리품목 텍스트 \n",
    "    :return: \n",
    "    \"\"\"\n",
    "    embeddings = OpenAIEmbeddings(model = 'text-embedding-3-small')\n",
    "    # 클라이언트 객체\n",
    "    vector_db = PineconeVectorStore(\n",
    "        embedding=embeddings,\n",
    "        index_name = PINECONE_INDEX_NAME,\n",
    "        namespace = PINECONE_NAMESPACE,\n",
    "        pinecone_api_key = PINECONE_API_KEY\n",
    "    )\n",
    "    # 유사도 검색\n",
    "    results = vector_db.similarity_search(\n",
    "    query,\n",
    "    k = 3,\n",
    "    namespace = PINECONE_NAMESPACE\n",
    "    ) \n",
    "    return {\n",
    "        'as_details' : query,\n",
    "        'repair_information' : '\\n'.join([doc.page_content for doc in results])\n",
    "    }\n"
   ],
   "id": "f0e9dcee0deff736",
   "outputs": [],
   "execution_count": 53
  },
  {
   "metadata": {
    "ExecuteTime": {
     "end_time": "2024-12-19T02:30:35.605649Z",
     "start_time": "2024-12-19T02:30:33.225943Z"
    }
   },
   "cell_type": "code",
   "source": "repair_product_information('갤럭시 24의 카메라 수리비용을 알고싶습니다.')\n",
   "id": "ec0ba981362b12a1",
   "outputs": [
    {
     "data": {
      "text/plain": [
       "{'as_details': '갤럭시 24의 카메라 수리비용을 알고싶습니다.',\n",
       " 'repair_information': '\\ufeff모델명: SM-S921NZYEKOO\\n제품명: 갤럭시 S24\\n수리부품: 카메라\\n가격: 86,000\\n: \\n\\ufeff모델명: SM-S928NLBNKOO\\n제품명: 갤럭시 S24 ULTRA\\n수리부품: 카메라\\n가격: 110,900\\n: \\n\\ufeff모델명: SM-S926NZYAKOO\\n제품명: 갤럭시 S24+\\n수리부품: 카메라\\n가격: 85,000\\n: '}"
      ]
     },
     "execution_count": 54,
     "metadata": {},
     "output_type": "execute_result"
    }
   ],
   "execution_count": 54
  },
  {
   "metadata": {
    "ExecuteTime": {
     "end_time": "2024-12-19T02:30:38.794964Z",
     "start_time": "2024-12-19T02:30:36.477595Z"
    }
   },
   "cell_type": "code",
   "source": [
    "from langchain_core.runnables import RunnableLambda\n",
    "\n",
    "chain = RunnableLambda(repair_product_information)\n",
    "input_data = {'text': '갤럭시Z플립3의 배터리가 망가졌어요.'}\n",
    "chain.invoke(input_data['text'])\n"
   ],
   "id": "5c6dff84e4aeb36f",
   "outputs": [
    {
     "data": {
      "text/plain": [
       "{'as_details': '갤럭시Z플립3의 배터리가 망가졌어요.',\n",
       " 'repair_information': '\\ufeff모델명: SM-F711N1BFKOO\\n제품명: 갤럭시 Z 플립3\\n수리부품: 배터리\\n가격: 96,500\\n: \\n\\ufeff모델명: SM-F741NZWAKOO\\n제품명: 갤럭시 Z 플립6\\n수리부품: 배터리\\n가격: 130,000\\n: \\n\\ufeff모델명: SM-F711N1BFKOO\\n제품명: 갤럭시 Z 플립3\\n수리부품: 디스플레이(메인)\\n가격: 543,000\\n: '}"
      ]
     },
     "execution_count": 55,
     "metadata": {},
     "output_type": "execute_result"
    }
   ],
   "execution_count": 55
  },
  {
   "metadata": {},
   "cell_type": "markdown",
   "source": "## 2. 수리부품 추천 - 수리비용 안내",
   "id": "81b1370dc8cf926f"
  },
  {
   "metadata": {
    "ExecuteTime": {
     "end_time": "2024-12-19T02:30:41.880718Z",
     "start_time": "2024-12-19T02:30:41.873943Z"
    }
   },
   "cell_type": "code",
   "source": [
    "from langchain_core.prompts import ChatPromptTemplate, HumanMessagePromptTemplate\n",
    "from langchain_openai import ChatOpenAI\n",
    "from langchain_core.output_parsers import StrOutputParser\n",
    "\n",
    "def product_repair_cost(query):\n",
    "    \n",
    "    prompt = ChatPromptTemplate.from_messages([\n",
    "        ('system', \"\"\"\n",
    "Persona:\n",
    "You are a service center employee with a deep love and passion for electronics. You have extensive knowledge about electronic products and are well-versed in the necessary components and repair costs associated with different models and issues. You ensure that customers understand the repair process and the costs involved, and your tone is friendly, approachable, and easy to understand, even for beginners.\n",
    "\n",
    "Role:\n",
    "As a service center employee, your role is to explain the necessary repair parts in an easy-to-understand way and provide the repair cost information. You help customers understand that only the appropriate minimum repair parts will be used, ensuring they have a seamless experience. Your goal is to improve the customer's inconvenience by recommending the right parts and repair costs so they can continue to use their electronics conveniently.\n",
    "\n",
    "Examples:\n",
    "**Example of screen damage repair**:\n",
    "If a customer requests an explanation for the repair cost due to screen damage, you would provide information on the product's model, the warranty period, the appropriate repair parts, the cost, and the estimated repair time, explaining everything in a way that even a child can understand.\n",
    "        \"\"\"),\n",
    "        HumanMessagePromptTemplate.from_template('''\n",
    "        수리비용 설명에 아래의 제품명과 모델명, 수리부품, 수리비용만을 참고하여 한글로 답변해주세요.\n",
    "        A/S 내용 :\n",
    "        {as_details}\n",
    "        수리 정보 :\n",
    "        {repair_information}\n",
    "        ''')\n",
    "    ])\n",
    "    \n",
    "    model = ChatOpenAI(\n",
    "        model = 'gpt-4o',\n",
    "        temperature = 0.3\n",
    "    )\n",
    "    \n",
    "    output_parser = StrOutputParser()\n",
    "    \n",
    "    return prompt | model | output_parser\n",
    "    "
   ],
   "id": "3b92de6ad86e2af5",
   "outputs": [],
   "execution_count": 56
  },
  {
   "metadata": {},
   "cell_type": "markdown",
   "source": "## Chain 연결",
   "id": "aa33294eb8ae0b8f"
  },
  {
   "metadata": {
    "ExecuteTime": {
     "end_time": "2024-12-19T02:30:49.643844Z",
     "start_time": "2024-12-19T02:30:43.673295Z"
    }
   },
   "cell_type": "code",
   "source": [
    "from langchain_core.runnables import RunnableLambda\n",
    "\n",
    "chain = RunnableLambda(repair_product_information) | RunnableLambda(product_repair_cost)\n",
    "\n",
    "input_data = {'text': '갤럭시Z플립3의 배터리가 망가졌어요.'}\n",
    "print(chain.invoke(input_data['text']))\n"
   ],
   "id": "bbdfe2186a2c7a8",
   "outputs": [
    {
     "name": "stdout",
     "output_type": "stream",
     "text": [
      "갤럭시 Z 플립3의 배터리 수리에 대해 설명드리겠습니다. 고객님의 모델명은 SM-F711N1BFKOO이며, 이 모델의 배터리 교체 비용은 96,500원입니다. 배터리 교체는 비교적 간단한 수리로, 보통 1~2시간 내외로 완료됩니다. 수리 후에는 배터리 성능이 원래 상태로 돌아오며, 더 오랫동안 편리하게 사용하실 수 있습니다. 추가적으로 궁금한 점이 있으시면 언제든지 말씀해 주세요!\n"
     ]
    }
   ],
   "execution_count": 57
  },
  {
   "metadata": {
    "ExecuteTime": {
     "end_time": "2024-12-19T02:30:59.247262Z",
     "start_time": "2024-12-19T02:30:52.108859Z"
    }
   },
   "cell_type": "code",
   "source": [
    "input_data = {'text': '갤럭시Z폴드6의 카메라가 작동이 안돼요.'}\n",
    "print(chain.invoke(input_data['text']))\n"
   ],
   "id": "8a0e4322484eebd0",
   "outputs": [
    {
     "name": "stdout",
     "output_type": "stream",
     "text": [
      "안녕하세요! 갤럭시 Z 폴드6의 카메라가 작동하지 않아 불편하셨겠어요. 해당 문제를 해결하기 위해 필요한 수리 정보를 안내드리겠습니다.\n",
      "\n",
      "고객님의 갤럭시 Z 폴드6 모델(SM-F956NAKEKOO)의 카메라 수리 비용은 75,500원입니다. 수리 시에는 카메라 부품만 교체하여 최소한의 비용으로 문제를 해결해 드립니다. 수리 시간은 보통 1~2일 정도 소요되며, 수리 완료 후에는 정상적으로 카메라를 사용하실 수 있습니다.\n",
      "\n",
      "추가로 궁금한 점이 있으시면 언제든지 문의해 주세요. 빠르고 정확한 수리를 통해 고객님의 불편을 최소화하도록 최선을 다하겠습니다. 감사합니다!\n"
     ]
    }
   ],
   "execution_count": 58
  },
  {
   "metadata": {
    "ExecuteTime": {
     "end_time": "2024-12-19T01:27:35.483799Z",
     "start_time": "2024-12-19T01:27:35.480208Z"
    }
   },
   "cell_type": "code",
   "source": "",
   "id": "9c398dcd4f24849",
   "outputs": [],
   "execution_count": null
  },
  {
   "metadata": {},
   "cell_type": "code",
   "outputs": [],
   "execution_count": null,
   "source": "",
   "id": "9899d60f9879c7d8"
  }
 ],
 "metadata": {
  "kernelspec": {
   "display_name": "Python 3",
   "language": "python",
   "name": "python3"
  },
  "language_info": {
   "codemirror_mode": {
    "name": "ipython",
    "version": 2
   },
   "file_extension": ".py",
   "mimetype": "text/x-python",
   "name": "python",
   "nbconvert_exporter": "python",
   "pygments_lexer": "ipython2",
   "version": "2.7.6"
  }
 },
 "nbformat": 4,
 "nbformat_minor": 5
}
