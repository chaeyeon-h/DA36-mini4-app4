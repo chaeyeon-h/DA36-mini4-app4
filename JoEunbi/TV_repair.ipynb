{
 "cells": [
  {
   "metadata": {
    "ExecuteTime": {
     "end_time": "2024-12-19T05:05:29.858268Z",
     "start_time": "2024-12-19T05:05:29.853974Z"
    }
   },
   "cell_type": "code",
   "source": [
    "import os\n",
    "\n",
    "from langchain_openai.embeddings import OpenAIEmbeddings\n",
    "from langchain_openai import ChatOpenAI\n",
    "from langchain_core.output_parsers import StrOutputParser\n",
    "from langchain_community.document_loaders import CSVLoader\n",
    "from langchain_pinecone import PineconeVectorStore\n",
    "from langchain_core.runnables import RunnableLambda\n",
    "from langchain_core.prompts import ChatPromptTemplate, HumanMessagePromptTemplate"
   ],
   "id": "6c08ccc0c8e05615",
   "outputs": [],
   "execution_count": 19
  },
  {
   "metadata": {
    "ExecuteTime": {
     "end_time": "2024-12-19T02:59:59.452959Z",
     "start_time": "2024-12-19T02:59:59.446016Z"
    }
   },
   "cell_type": "code",
   "source": [
    "from dotenv import load_dotenv\n",
    "\n",
    "load_dotenv()\n",
    "os.getenv(\"LANGCHAIN_PROJECT\")"
   ],
   "id": "457c21cee11eeb38",
   "outputs": [
    {
     "data": {
      "text/plain": [
       "'encore-ds36-turtorial'"
      ]
     },
     "execution_count": 3,
     "metadata": {},
     "output_type": "execute_result"
    }
   ],
   "execution_count": 3
  },
  {
   "metadata": {},
   "cell_type": "markdown",
   "source": "### tv_repair_product_information",
   "id": "149ce290ebb4b327"
  },
  {
   "metadata": {
    "ExecuteTime": {
     "end_time": "2024-12-19T03:35:34.658776Z",
     "start_time": "2024-12-19T03:35:34.653714Z"
    }
   },
   "cell_type": "code",
   "source": [
    "# TV_repair.csv 불러오기\n",
    "loader = CSVLoader('./TV_repair.csv', encoding='utf-8')\n",
    "tv_repair_documents = loader.load()"
   ],
   "id": "3fbf13132be526b7",
   "outputs": [],
   "execution_count": 6
  },
  {
   "metadata": {
    "ExecuteTime": {
     "end_time": "2024-12-19T03:35:36.146546Z",
     "start_time": "2024-12-19T03:35:35.540159Z"
    }
   },
   "cell_type": "code",
   "source": [
    "# 임베딩 모델\n",
    "embeddings = OpenAIEmbeddings(model = 'text-embedding-3-small')"
   ],
   "id": "31b86f293a364f35",
   "outputs": [],
   "execution_count": 7
  },
  {
   "metadata": {
    "ExecuteTime": {
     "end_time": "2024-12-19T03:35:36.669074Z",
     "start_time": "2024-12-19T03:35:36.664340Z"
    }
   },
   "cell_type": "code",
   "source": [
    "# TV_repair_PINECONE vector_db \n",
    "TV_PINECONE_INDEX_NAME = os.getenv('TV_PINECONE_INDEX_NAME')\n",
    "TV_PINECONE_NAMESPACE = os.getenv('TV_PINECONE_NAMESPACE')\n",
    "PINECONE_API_KEY = os.getenv('PINECONE_API_KEY')\n",
    "\n",
    "def tv_repair_product_information(tv_repair_query):\n",
    "    \"\"\"\n",
    "    :param tv_repair_query: 전자제품 모델명 + 수리품목 텍스트 \n",
    "    :return: \n",
    "    \"\"\"\n",
    "    \n",
    "    # 클라이언트 객체\n",
    "    tv_repair_vector_db = PineconeVectorStore.from_documents(\n",
    "        tv_repair_documents,\n",
    "        embedding=embeddings,\n",
    "        index_name=TV_PINECONE_INDEX_NAME,\n",
    "        namespace=TV_PINECONE_NAMESPACE,\n",
    "        pinecone_api_key=PINECONE_API_KEY\n",
    "    )\n",
    "    \n",
    "    # 유사도 검색\n",
    "    results = tv_repair_vector_db.similarity_search(\n",
    "    tv_repair_query,\n",
    "    k=3,\n",
    "    namespace=TV_PINECONE_NAMESPACE\n",
    "    )\n",
    "    return {\n",
    "        'as_details' : tv_repair_query,\n",
    "        'repair_information' : '\\n'.join([doc.page_content for doc in results])\n",
    "    }"
   ],
   "id": "47a1534bce66b664",
   "outputs": [],
   "execution_count": 8
  },
  {
   "metadata": {
    "ExecuteTime": {
     "end_time": "2024-12-19T03:37:59.154139Z",
     "start_time": "2024-12-19T03:37:52.096132Z"
    }
   },
   "cell_type": "code",
   "source": "tv_repair_product_information('NEO QLED 4K TV 43인치의 디스플레이 수리비용은 얼마인가요?')",
   "id": "95ea93264a002ac",
   "outputs": [
    {
     "data": {
      "text/plain": [
       "{'as_details': 'NEO QLED 4K TV 43인치의 디스플레이 수리비용은 얼마인가요?',\n",
       " 'repair_information': '\\ufeff모델명: KQ43QNA90AFXKR\\n이름: NEO QLED 4K TV 43형\\n부품: 디스플레이\\n평균가: 623,000\\n\\ufeff모델명: KQ43QNA90AFXKR\\n이름: NEO QLED 4K TV 43형\\n부품: 디스플레이\\n평균가: 623,000\\n\\ufeff모델명: KQ43QNA91AFXKR\\n이름: NEO QLED 4K TV 44형\\n부품: 케이블\\n평균가: 10,500'}"
      ]
     },
     "execution_count": 10,
     "metadata": {},
     "output_type": "execute_result"
    }
   ],
   "execution_count": 10
  },
  {
   "metadata": {
    "ExecuteTime": {
     "end_time": "2024-12-19T03:40:47.391531Z",
     "start_time": "2024-12-19T03:40:41.526034Z"
    }
   },
   "cell_type": "code",
   "source": [
    "tv_repair_product_chain = RunnableLambda(tv_repair_product_information)\n",
    "input_data = {'text': '프레임 TV 55인치 리모컨 망가졌어요'}\n",
    "tv_repair_product_chain.invoke(input_data['text'])"
   ],
   "id": "821a10b819c7dd97",
   "outputs": [
    {
     "data": {
      "text/plain": [
       "{'as_details': '프레임 TV 55인치 리모컨 망가졌어요',\n",
       " 'repair_information': '\\ufeff모델명: KQ55LSA05AFXKR\\n이름: 프레임 TV 57형\\n부품: 리모컨\\n평균가: 45,000\\n\\ufeff모델명: KQ55LSA05AFXKR\\n이름: 프레임 TV 57형\\n부품: 리모컨\\n평균가: 45,000\\n\\ufeff모델명: KQ55LSA05AFXKR\\n이름: 프레임 TV 57형\\n부품: 리모컨\\n평균가: 45,000'}"
      ]
     },
     "execution_count": 15,
     "metadata": {},
     "output_type": "execute_result"
    }
   ],
   "execution_count": 15
  },
  {
   "metadata": {},
   "cell_type": "markdown",
   "source": "### tv_repair_price",
   "id": "c6ae78aef947a8aa"
  },
  {
   "metadata": {
    "ExecuteTime": {
     "end_time": "2024-12-19T03:40:56.865693Z",
     "start_time": "2024-12-19T03:40:56.860465Z"
    }
   },
   "cell_type": "code",
   "source": [
    "\n",
    "def tv_product_repair_cost(tv_repair_query):\n",
    "    \n",
    "    prompt = ChatPromptTemplate.from_messages([\n",
    "        ('system', \"\"\"\n",
    "Persona:\n",
    "You are a service center employee with a deep love and passion for electronics. You have extensive knowledge about electronic products and are well-versed in the necessary components and repair costs associated with different models and issues. You ensure that customers understand the repair process and the costs involved, and your tone is friendly, approachable, and easy to understand, even for beginners.\n",
    "\n",
    "Role:\n",
    "As a service center employee, your role is to explain the necessary repair parts in an easy-to-understand way and provide the repair cost information. You help customers understand that only the appropriate minimum repair parts will be used, ensuring they have a seamless experience. Your goal is to improve the customer's inconvenience by recommending the right parts and repair costs so they can continue to use their electronics conveniently.\n",
    "\n",
    "Examples:\n",
    "**Example of screen damage repair**:\n",
    "If a customer requests an explanation for the repair cost due to screen damage, you would provide information on the product's model, the warranty period, the appropriate repair parts, the cost, and the estimated repair time, explaining everything in a way that even a child can understand.\n",
    "        \"\"\"),\n",
    "        HumanMessagePromptTemplate.from_template('''\n",
    "        수리비용 설명에 아래의 제품명과 모델명, 수리부품, 수리비용만을 참고하여 한글로 답변해주세요.\n",
    "        A/S 내용 :\n",
    "        {as_details}\n",
    "        수리 정보 :\n",
    "        {repair_information}\n",
    "        ''')\n",
    "    ])\n",
    "    \n",
    "    model = ChatOpenAI(\n",
    "        model = 'gpt-4o',\n",
    "        temperature = 0.3\n",
    "    )\n",
    "    \n",
    "    output_parser = StrOutputParser()\n",
    "    \n",
    "    return prompt | model | output_parser\n",
    "    "
   ],
   "id": "ed85bd411bad98a5",
   "outputs": [],
   "execution_count": 16
  },
  {
   "metadata": {
    "ExecuteTime": {
     "end_time": "2024-12-19T03:41:21.429376Z",
     "start_time": "2024-12-19T03:41:11.383722Z"
    }
   },
   "cell_type": "code",
   "source": [
    "chain = RunnableLambda(tv_repair_product_information) | RunnableLambda(tv_product_repair_cost)\n",
    "\n",
    "input_data = {'text': 'NEO QLED 4K TV 45인치 디스플레이 수리 비용은 얼마인가요?'}\n",
    "print(chain.invoke(input_data['text']))"
   ],
   "id": "e9537acf83e5ad5d",
   "outputs": [
    {
     "name": "stdout",
     "output_type": "stream",
     "text": [
      "안녕하세요! NEO QLED 4K TV 43형의 디스플레이 수리에 대해 문의 주셨군요. 해당 모델명은 KQ43QNA90AFXKR입니다. 디스플레이 수리에 필요한 부품의 평균 비용은 623,000원입니다. \n",
      "\n",
      "수리 과정은 디스플레이 교체가 주로 이루어지며, 수리 시간은 부품의 재고 상황에 따라 달라질 수 있습니다. 수리비용에는 부품비와 작업비가 포함될 수 있으니, 정확한 견적을 위해서는 서비스 센터 방문을 추천드립니다. \n",
      "\n",
      "추가로 궁금한 점이 있거나 도움이 필요하시면 언제든지 문의해 주세요! 감사합니다.\n"
     ]
    }
   ],
   "execution_count": 17
  },
  {
   "metadata": {
    "ExecuteTime": {
     "end_time": "2024-12-19T03:41:49.301786Z",
     "start_time": "2024-12-19T03:41:40.330077Z"
    }
   },
   "cell_type": "code",
   "source": [
    "input_data = {'text': '프레임 TV 88인치 리모컨 잃어버렸는데 교체 비용 알려주세요'}\n",
    "print(chain.invoke(input_data['text']))"
   ],
   "id": "a80a06dbd8ff63a2",
   "outputs": [
    {
     "name": "stdout",
     "output_type": "stream",
     "text": [
      "안녕하세요! 프레임 TV 87형의 리모컨 교체 비용에 대해 안내드리겠습니다. 고객님께서 사용 중이신 모델명은 KQ85LSA05AFXKR이며, 이 모델의 리모컨 평균 교체 비용은 45,000원입니다. 리모컨은 TV를 편리하게 조작할 수 있도록 도와주는 중요한 부품이니, 필요하신 경우 언제든지 교체를 진행하실 수 있습니다. 추가적인 문의사항이 있으시면 언제든지 말씀해 주세요!\n"
     ]
    }
   ],
   "execution_count": 18
  }
 ],
 "metadata": {
  "kernelspec": {
   "display_name": "Python 3",
   "language": "python",
   "name": "python3"
  },
  "language_info": {
   "codemirror_mode": {
    "name": "ipython",
    "version": 2
   },
   "file_extension": ".py",
   "mimetype": "text/x-python",
   "name": "python",
   "nbconvert_exporter": "python",
   "pygments_lexer": "ipython2",
   "version": "2.7.6"
  }
 },
 "nbformat": 4,
 "nbformat_minor": 5
}
